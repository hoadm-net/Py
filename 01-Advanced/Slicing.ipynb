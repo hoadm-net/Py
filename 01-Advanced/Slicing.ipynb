{
 "cells": [
  {
   "cell_type": "markdown",
   "id": "957b949c-1a96-4260-950b-239c7441bca2",
   "metadata": {},
   "source": [
    "# Python Indexing\n",
    "\n",
    "**Index** là vị trí của một phần tử trong 1 string, list hay tuple. Trong ngôn ngữ Python, index được bắt đầu tính từ số 0. Bên cạnh đó, Python còn hỗ trợ tính năng index âm (negative index) để đếm từ cuối đếm lên. Index âm bắt đầu đếm từ -1.\n",
    "\n",
    "Xét ví dụ sau:\n",
    "\n",
    "\n",
    "|   |   |   |   |   |   |   |\n",
    "|---|---|---|---|---|---|---|\n",
    "|0  |1  |2  |3  |4  |5  |6  |\n",
    "|H  |U  |F  |L  |L  |I  |T  |\n",
    "|-7 |-6 |-5 |-4 |-3 |-2 |-1 |\n"
   ]
  },
  {
   "cell_type": "code",
   "execution_count": null,
   "id": "fa5863a1-37e8-4250-afbe-c7eae834f646",
   "metadata": {},
   "outputs": [],
   "source": [
    "\"\"\" In các ký tự ở vị trí\n",
    "        * thứ nhất\n",
    "        * thứ ba\n",
    "        * cuối cùng\n",
    "\"\"\"\n",
    "name = 'HUFLIT'\n",
    "\n",
    "print(name[0])"
   ]
  },
  {
   "cell_type": "markdown",
   "id": "13601ba0-3f13-4256-a437-ad3d120a603f",
   "metadata": {},
   "source": [
    "# Slicing\n",
    "Slicing cho phép trích xuất 1 phần của string, list hay tuple bằng cách mô tả vị trí của chúng. Cú pháp cơ bản của slicing ```var[start:end:step]```. Giá trị mặc định của 3 tham số như sau:\n",
    "* ```start``` = 0 (vị trí đầu dãy)\n",
    "* ```end``` = len(var) (vị trí cuối cùng)\n",
    "* ```step``` = 1 "
   ]
  },
  {
   "cell_type": "code",
   "execution_count": null,
   "id": "8a2cbca0-998b-4353-bc1d-6094c09bf1d5",
   "metadata": {},
   "outputs": [],
   "source": [
    "\"\"\" In các ký tự:\n",
    "        * ở vị trí chẵn\n",
    "        * ở vị trí lẻ\n",
    "        * ở vị trí 0, 3, 6, ...\n",
    "        * In tất cả với thứ tự ngược\n",
    "\"\"\"\n",
    "name = 'HUFLIT'\n"
   ]
  },
  {
   "cell_type": "markdown",
   "id": "be4dcfd9-a0a1-499d-a5b5-c69153fc632f",
   "metadata": {},
   "source": [
    "# Bài tập\n",
    "Thực hiện lại các bài tập trên với kiểu dữ liệu list"
   ]
  },
  {
   "cell_type": "code",
   "execution_count": null,
   "id": "c49a30b0-f1e0-41cc-821a-f8b7a6b7e6ae",
   "metadata": {},
   "outputs": [],
   "source": [
    "myList = [0, 2, 1, 8, 10, 21, 32, 15, 27, 18, 5, 6]\n",
    "\n",
    "# TODO\n"
   ]
  }
 ],
 "metadata": {
  "kernelspec": {
   "display_name": "Python 3 (ipykernel)",
   "language": "python",
   "name": "python3"
  },
  "language_info": {
   "codemirror_mode": {
    "name": "ipython",
    "version": 3
   },
   "file_extension": ".py",
   "mimetype": "text/x-python",
   "name": "python",
   "nbconvert_exporter": "python",
   "pygments_lexer": "ipython3",
   "version": "3.10.6"
  }
 },
 "nbformat": 4,
 "nbformat_minor": 5
}
