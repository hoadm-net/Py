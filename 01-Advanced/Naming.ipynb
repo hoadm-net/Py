{
 "cells": [
  {
   "cell_type": "markdown",
   "id": "a14b7bdf-589c-46ec-8ac4-51954532a702",
   "metadata": {},
   "source": [
    "# Naming\n",
    "\n",
    "Khi lập trình, chúng ta phải đặt tên cho rất nhiều thứ, từ các variables, functions, classses cho đến packages (Python). Việc nghĩ ra một cái tên hợp lý, hay ho đôi khi cũng là một thách thức lớn.\n",
    "\n",
    "Để mã nguồn của chúng ta dễ hiểu, việc đặt tên này nên tuân theo 1 số quy tắc cơ bản sau:\n",
    "\n",
    "\n",
    "|Đối tượng|Quy ước|Ví dụ|\n",
    "|---|---|---|\n",
    "|Biến (variables)|Sử dụng các ký tự, các từ viết thường. Các từ ngăn cách bằng dấu gạch dưới|```x, y, name, first_name```|\n",
    "|Hằng số (constant)|Sử dụng các ký tự, các từ viết in hoa. Các từ ngăn cách bằng dấu gạch dưới|```E, PI```|\n",
    "|Hàm (function)/ phương thức (method)|Sử dụng các từ viết thường. Các từ ngăn cách bằng dấu gạch dưới|```sqrt, get_name, is_prime```|\n",
    "|Lớp (class)|Các từ được viết hoa chữ cái đầu tiên và viết liền (Pascal Case)|```Student, SavingsAccount```|\n",
    "|Module|Sử dụng các từ viết thường. Các từ ngăn cách bằng dấu gạch dưới|```user_management```|\n",
    "|Package|Sử dụng các từ viết thường viết liền nhau|```matplotlib```|"
   ]
  },
  {
   "cell_type": "code",
   "execution_count": 1,
   "id": "0f01deb6-7870-4e0e-bfcf-786e40922b6a",
   "metadata": {},
   "outputs": [
    {
     "name": "stdout",
     "output_type": "stream",
     "text": [
      "Đinh,Hòa\n"
     ]
    }
   ],
   "source": [
    "\"\"\"\n",
    "    Ngoài việc viết tên theo nguyên tắc phía trên, thì việc đặt tên sao cho \n",
    "    có ý nghĩa và tránh gây nhầm lên cũng là một yếu tố quan trọng \n",
    "\"\"\"\n",
    "\n",
    "x = 'Đinh Hòa'\n",
    "y, z = x.split()\n",
    "\n",
    "print(y,z, sep=',')"
   ]
  },
  {
   "cell_type": "code",
   "execution_count": 2,
   "id": "5e9726d9-4a42-40dc-b322-a145b156405d",
   "metadata": {},
   "outputs": [
    {
     "name": "stdout",
     "output_type": "stream",
     "text": [
      "Đinh,Hòa\n"
     ]
    }
   ],
   "source": [
    "my_name = 'Đinh Hòa'\n",
    "last_name, first_name = my_name.split()\n",
    "\n",
    "print(last_name, first_name, sep=',')"
   ]
  },
  {
   "cell_type": "markdown",
   "id": "ad50ffba-d325-483f-a41e-66d390f9c1ba",
   "metadata": {},
   "source": [
    "Rõ ràng, cả 2 cách trên đều cho ra cùng một kết quả, nhưng cách thứ 2 sẽ khiến cho người đọc dễ chịu và nhanh nắm được vấn đề hơn. Xem tiếp đoạn code bên dưới."
   ]
  },
  {
   "cell_type": "code",
   "execution_count": 3,
   "id": "1d916d1a-b4af-4b46-91d1-1a44d5e22379",
   "metadata": {},
   "outputs": [],
   "source": [
    "O = 2\n",
    "l = 10\n",
    "I = 70"
   ]
  },
  {
   "cell_type": "markdown",
   "id": "1c520b78-d5c6-4fa6-92a6-246f0ddba476",
   "metadata": {},
   "source": [
    "Trong một vài trường hợp, việc đặt tên biến bằng 1 ký tự vẫn được cho phép. Tuy nhiên, chúng ta nên tránh các ký tự dễ gây nhầm lẫn như O, i, l, I... "
   ]
  }
 ],
 "metadata": {
  "kernelspec": {
   "display_name": "Python 3 (ipykernel)",
   "language": "python",
   "name": "python3"
  },
  "language_info": {
   "codemirror_mode": {
    "name": "ipython",
    "version": 3
   },
   "file_extension": ".py",
   "mimetype": "text/x-python",
   "name": "python",
   "nbconvert_exporter": "python",
   "pygments_lexer": "ipython3",
   "version": "3.10.6"
  }
 },
 "nbformat": 4,
 "nbformat_minor": 5
}
