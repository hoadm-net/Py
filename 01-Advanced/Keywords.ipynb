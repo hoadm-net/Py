{
 "cells": [
  {
   "cell_type": "markdown",
   "id": "0ca91eef-3dff-4846-a5ca-cec3d68d6cb9",
   "metadata": {},
   "source": [
    "# Keywords\n",
    "\n",
    "Keyword (từ khóa) là những từ được ngôn ngữ sử dụng để thực hiện 1 chức năng cụ thể. Với những người đã làm việc với 1 ngôn ngữ lập trình lâu năm thì danh sách này chắc chắn sẽ không xa lạ. Tuy nhiên, với những bạn mới làm quen thì cần tìm hiểu qua danh sách này để có thể sử dụng hoặc tránh đặt tên trùng."
   ]
  },
  {
   "cell_type": "code",
   "execution_count": 1,
   "id": "89b8813f-4edd-4b3f-af57-0419e7796936",
   "metadata": {},
   "outputs": [
    {
     "name": "stdout",
     "output_type": "stream",
     "text": [
      "['False', 'None', 'True', 'and', 'as', 'assert', 'async', 'await', 'break', 'class', 'continue', 'def', 'del', 'elif', 'else', 'except', 'finally', 'for', 'from', 'global', 'if', 'import', 'in', 'is', 'lambda', 'nonlocal', 'not', 'or', 'pass', 'raise', 'return', 'try', 'while', 'with', 'yield']\n"
     ]
    }
   ],
   "source": [
    "\"\"\"\n",
    " Python cung cấp thư viện keyword hỗ trợ người dùng 1 số tác vụ\n",
    "\"\"\"\n",
    "\n",
    "import keyword\n",
    "\n",
    "print(keyword.kwlist)"
   ]
  },
  {
   "cell_type": "code",
   "execution_count": 2,
   "id": "18ab6131-e3ca-4900-b87a-8e90a6af7525",
   "metadata": {},
   "outputs": [
    {
     "name": "stdout",
     "output_type": "stream",
     "text": [
      "True\n",
      "False\n"
     ]
    }
   ],
   "source": [
    "# Kiểm tra từ có phải keyword không?\n",
    "\n",
    "print(keyword.iskeyword('True'))\n",
    "print(keyword.iskeyword('Me'))"
   ]
  },
  {
   "cell_type": "code",
   "execution_count": 3,
   "id": "2dda7463-2269-45b4-a891-cf4c9dcb5257",
   "metadata": {},
   "outputs": [
    {
     "name": "stdout",
     "output_type": "stream",
     "text": [
      "Boolean operations\n",
      "******************\n",
      "\n",
      "   or_test  ::= and_test | or_test \"or\" and_test\n",
      "   and_test ::= not_test | and_test \"and\" not_test\n",
      "   not_test ::= comparison | \"not\" not_test\n",
      "\n",
      "In the context of Boolean operations, and also when expressions are\n",
      "used by control flow statements, the following values are interpreted\n",
      "as false: \"False\", \"None\", numeric zero of all types, and empty\n",
      "strings and containers (including strings, tuples, lists,\n",
      "dictionaries, sets and frozensets).  All other values are interpreted\n",
      "as true.  User-defined objects can customize their truth value by\n",
      "providing a \"__bool__()\" method.\n",
      "\n",
      "The operator \"not\" yields \"True\" if its argument is false, \"False\"\n",
      "otherwise.\n",
      "\n",
      "The expression \"x and y\" first evaluates *x*; if *x* is false, its\n",
      "value is returned; otherwise, *y* is evaluated and the resulting value\n",
      "is returned.\n",
      "\n",
      "The expression \"x or y\" first evaluates *x*; if *x* is true, its value\n",
      "is returned; otherwise, *y* is evaluated and the resulting value is\n",
      "returned.\n",
      "\n",
      "Note that neither \"and\" nor \"or\" restrict the value and type they\n",
      "return to \"False\" and \"True\", but rather return the last evaluated\n",
      "argument.  This is sometimes useful, e.g., if \"s\" is a string that\n",
      "should be replaced by a default value if it is empty, the expression\n",
      "\"s or 'foo'\" yields the desired value.  Because \"not\" has to create a\n",
      "new value, it returns a boolean value regardless of the type of its\n",
      "argument (for example, \"not 'foo'\" produces \"False\" rather than \"''\".)\n",
      "\n",
      "Related help topics: EXPRESSIONS, TRUTHVALUE\n",
      "\n"
     ]
    }
   ],
   "source": [
    "# Ngoài ra, có thể sử dụng function help để tra cứu 1 keyword bất kỳ\n",
    "\n",
    "help('and')"
   ]
  },
  {
   "cell_type": "code",
   "execution_count": null,
   "id": "a41dba89-53b7-4f8d-b91b-8bbac1bf7325",
   "metadata": {},
   "outputs": [],
   "source": []
  }
 ],
 "metadata": {
  "kernelspec": {
   "display_name": "Python 3 (ipykernel)",
   "language": "python",
   "name": "python3"
  },
  "language_info": {
   "codemirror_mode": {
    "name": "ipython",
    "version": 3
   },
   "file_extension": ".py",
   "mimetype": "text/x-python",
   "name": "python",
   "nbconvert_exporter": "python",
   "pygments_lexer": "ipython3",
   "version": "3.10.6"
  }
 },
 "nbformat": 4,
 "nbformat_minor": 5
}
