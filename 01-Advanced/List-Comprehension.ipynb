{
 "cells": [
  {
   "cell_type": "markdown",
   "id": "77ba7421-0eb7-4520-97fb-c41c820fd29e",
   "metadata": {},
   "source": [
    "# List Comprehension\n",
    "List Comprehension cung cấp cho chúng ta một cú pháp ngắn gọn để xây dựng list. Cú pháp tổng quan ```newlist = [expression for item in iterable if condition == True]``` với\n",
    "* Condition được sử dụng như 1 bộ lọc (filter)\n",
    "* Iterable là các iterable object ví dụ: string, list, tuple, set...\n",
    "\n",
    "Dưới đây là một vài ví dụ sử dụng list comprehension"
   ]
  },
  {
   "cell_type": "code",
   "execution_count": null,
   "id": "75762707-fd2d-4dad-aee1-17a1656cd4b1",
   "metadata": {},
   "outputs": [],
   "source": [
    "# Tạo ra 1 list các số nguyên dương lẻ trong đoạn [1,30]\n",
    "\n",
    "oddList = [e for e in range(1, 30, 2)]\n",
    "oddList"
   ]
  },
  {
   "cell_type": "code",
   "execution_count": null,
   "id": "1c8b6037-c394-4092-a72d-44238b604fa7",
   "metadata": {},
   "outputs": [],
   "source": [
    "# Sử dụng 1 biểu thức để biến đổi List đã tồn tại\n",
    "\n",
    "fruits = [\"apple\", \"banana\", \"cherry\", \"kiwi\", \"mango\"]\n",
    "upFruits = [fruit.upper() for fruit in fruits]\n",
    "upFruits"
   ]
  },
  {
   "cell_type": "code",
   "execution_count": null,
   "id": "1cc2049d-20fe-43e3-a064-0c77ccab31f2",
   "metadata": {},
   "outputs": [],
   "source": [
    "bitList = [32, 64, 128, 256]\n",
    "byteList = [bits//8 for bits in bitList]\n",
    "byteList"
   ]
  },
  {
   "cell_type": "code",
   "execution_count": null,
   "id": "d37b37f5-a157-4c2f-8b68-f268ded7ce98",
   "metadata": {},
   "outputs": [],
   "source": [
    "# Sử dụng điều kiện\n",
    "numList = [20, 1, 3, 6, 22, 37, 88, 24, 81, 91, 90, 72, 35, 21, 18, 42, 36, 25]\n",
    "enList = [i for i in numList if i % 2 == 0]\n",
    "enList"
   ]
  },
  {
   "cell_type": "code",
   "execution_count": null,
   "id": "0d06f4bc-1178-415c-bcf0-20025bb42055",
   "metadata": {},
   "outputs": [],
   "source": [
    "tList = ['Even' if i % 2 == 0 else 'Odd' for i in numList ]\n",
    "tList"
   ]
  },
  {
   "cell_type": "code",
   "execution_count": null,
   "id": "3ee5f3b7-7c10-4ffa-8ae8-14ee97ee34b5",
   "metadata": {},
   "outputs": [],
   "source": [
    "# Sử dụng list comprehension lặp\n",
    "\n",
    "matrix = [\n",
    "    [2, 4, 7, 8],\n",
    "    [3, 1, 1, 5],\n",
    "    [8, 6, 3, 9]\n",
    "]\n",
    "\n",
    "# flatten\n",
    "vertor = [el for row in matrix for el in row]\n",
    "vertor"
   ]
  },
  {
   "cell_type": "markdown",
   "id": "cd8133b6-e549-47b8-84df-5acba70b6102",
   "metadata": {},
   "source": [
    "# Bài tập\n",
    "Áp dụng List conprehension thực hiện các bài tập bên dưới\n"
   ]
  },
  {
   "cell_type": "code",
   "execution_count": null,
   "id": "b1925636-bc72-4cac-9740-b58942d2752d",
   "metadata": {},
   "outputs": [],
   "source": [
    "\"\"\"\n",
    "    Cho danh sách tên các bạn sinh viên, \n",
    "    tạo danh sách mới viết hoa tên các bạn sinh viên đã cho\n",
    "\"\"\"\n",
    "names = ['anh', 'bảo', 'cường', 'dũng', 'đức', 'hân', 'kiên', 'linh', 'minh']\n"
   ]
  },
  {
   "cell_type": "code",
   "execution_count": null,
   "id": "6aa11ab5-e383-4aee-a0a3-10f4e7c0ee0d",
   "metadata": {},
   "outputs": [],
   "source": [
    "\"\"\" \n",
    "    Cho danh sách các tuple chứa tên các bạn sinh viên và học lực\n",
    "    Tạo danh sách mới chỉ chứa các bạn sinh viên giỏi\n",
    "\"\"\"\n",
    "names = [\n",
    "    ('Anh', 'Khá'), \n",
    "    ('Bảo', 'Giỏi'),\n",
    "    ('Cường', 'Khá'), \n",
    "    ('Dũng', 'Khá'),\n",
    "    ('Đức', 'Trung Bình'),\n",
    "    ('Hân', 'Trung Bình'),\n",
    "    ('Kiên', 'Khá'),\n",
    "    ('Linh', 'Trung Bình'),\n",
    "    ('Minh', 'Giỏi')\n",
    "]\n",
    "\n",
    "# TODO\n",
    "\n",
    "goodStudent = [e[0] for e in names if e[1] == 'Giỏi']\n",
    "goodStudent"
   ]
  },
  {
   "cell_type": "code",
   "execution_count": null,
   "id": "0c665c37-3255-4948-9440-cab05c47d02c",
   "metadata": {},
   "outputs": [],
   "source": [
    "\"\"\" \n",
    "    Cho danh sách các tuple chứa tên các bạn sinh viên và điểm trung bình\n",
    "    Tạo danh sách mới chứa tên và kết quả (Đạt hoặc Không Đạt). Biết nếu \n",
    "    điểm trung bình >= 5 là đạt\n",
    "\"\"\"\n",
    "names = [\n",
    "    ('Anh', 7), \n",
    "    ('Bảo', 8.8),\n",
    "    ('Cường', 4), \n",
    "    ('Dũng', 4.5),\n",
    "    ('Đức', 6),\n",
    "    ('Hân', 7.5),\n",
    "    ('Kiên', 3),\n",
    "    ('Linh', 5.0),\n",
    "    ('Minh', 5.5)\n",
    "]\n",
    "\n",
    "# TODO\n",
    "result = []\n",
    "result"
   ]
  },
  {
   "cell_type": "code",
   "execution_count": null,
   "id": "5c49efbb-49b8-4eb7-b64f-4df481e9ad3e",
   "metadata": {},
   "outputs": [],
   "source": [
    "\"\"\"\n",
    "Chuyển vị ma trận\n",
    "    4 3\n",
    "    2 7\n",
    "    1 8\n",
    "    5 2\n",
    "    \n",
    "Kết quả\n",
    "    4 2 1 5\n",
    "    3 7 8 2\n",
    "\"\"\"\n",
    "matrix = [\n",
    "    [4, 3],\n",
    "    [2, 7],\n",
    "    [1, 8],\n",
    "    [5, 2]\n",
    "]\n",
    "# TODO\n",
    "transpose = []\n",
    "transpose"
   ]
  },
  {
   "cell_type": "code",
   "execution_count": null,
   "id": "22db3b32-4013-4f39-802f-e796775faa3a",
   "metadata": {},
   "outputs": [],
   "source": []
  }
 ],
 "metadata": {
  "kernelspec": {
   "display_name": "Python 3 (ipykernel)",
   "language": "python",
   "name": "python3"
  },
  "language_info": {
   "codemirror_mode": {
    "name": "ipython",
    "version": 3
   },
   "file_extension": ".py",
   "mimetype": "text/x-python",
   "name": "python",
   "nbconvert_exporter": "python",
   "pygments_lexer": "ipython3",
   "version": "3.10.6"
  }
 },
 "nbformat": 4,
 "nbformat_minor": 5
}
