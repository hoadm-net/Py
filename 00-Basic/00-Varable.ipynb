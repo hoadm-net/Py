{
 "cells": [
  {
   "cell_type": "markdown",
   "id": "54c9ea8d-e73f-4448-96dd-6cae52d49e9d",
   "metadata": {},
   "source": [
    "# Variable (var) - Biến\n",
    "\n",
    "Trong lập trình, biến là một cái tên mà lập trình viên đặt cho một khu vực các ô nhớ - nơi lưu trữ các giá trị của chương trình. Khi làm việc với biến, có một số vấn đề cần quan tâm:\n",
    "* Tên\n",
    "* Kiểu dữ liệu"
   ]
  },
  {
   "cell_type": "markdown",
   "id": "8566ba65-a174-4982-9d59-502425b4bbc7",
   "metadata": {},
   "source": [
    "## Tên biến\n",
    "Việc đặt tên một biến tưởng chừng rất đơn giản, chỉ cần tuân thủ các quy định đặt tên của ngôn ngữ (Python) như:\n",
    "* Tên biến chỉ chứa ký tự a-z, A-Z, 0-9 và dấu gạch dưới (underscore \\_).\n",
    "* Không được bắt đầu bằng số\n",
    "* Case-sensitive (phân biệt viết hoa và viết thường). Ví dụ age, Age và aGe là 3 biến hoàn toàn khác biệt.\n",
    "* Không được trùng với các keywords của ngôn ngữ (Xem thêm mục 01-Advanced/Keywords)\n",
    "\n",
    "Tuy nhiên, đây mới chỉ là điều kiện cần để mã nguồn của các bạn có thể thực thi được mà thôi. Để tăng tính chuyên nghiệp khi viết code, chúng ta cần tuân theo những tiêu chuẩn của ngôn ngữ, framework và quy ước của đội nhóm, công ty. Những tiêu chuẩn và quy ước này giúp cho chúng ta dễ dàng phát triển và bảo trì mã nguồn của mình hơn. Dưới đây là một vài ví dụ về việc đặt tên biến.\n"
   ]
  },
  {
   "cell_type": "code",
   "execution_count": null,
   "id": "db1d398f-e6f9-476d-ae70-9fe549fc8ea0",
   "metadata": {},
   "outputs": [],
   "source": [
    "\"\"\"\n",
    "    a là số PI\n",
    "    b là bán kính hình tròn\n",
    "    c là diện tích\n",
    "\"\"\"\n",
    "\n",
    "a = 3.14\n",
    "b = 5 \n",
    "c = b**2*a"
   ]
  },
  {
   "cell_type": "code",
   "execution_count": null,
   "id": "2cc38ddf-8538-4c43-8840-cfa038f5fd41",
   "metadata": {},
   "outputs": [],
   "source": [
    "PI = 3.14\n",
    "r = 5\n",
    "area = r**2*PI"
   ]
  },
  {
   "cell_type": "markdown",
   "id": "0af77feb-d026-49bf-9a72-2799b60d61d0",
   "metadata": {},
   "source": [
    "Trong 2 đoạn mã trên, đoạn thứ nhất được ghi chú (comment) một cách cẩn thận trong khi đoạn thứ 2 không có. Tuy nhiên, có thể dễ dàng nhận thấy đoạn mã thứ 2 dễ hiểu hơn và cần ít thời gian hơn để viết.\n",
    "\n",
    "Việc đặt tên cho một biến, function hay class phụ thuộc rất nhiều yếu tố. Trong mục 01-Advanced/Naming tôi có giới thiệu một vài quy ước cơ bản giúp cho việc đọc và viết mã Python dễ dàng hơn."
   ]
  },
  {
   "cell_type": "markdown",
   "id": "5d126acb-eb3a-42f7-9ce9-031bb6191c3c",
   "metadata": {},
   "source": [
    "## Kiểu dữ liệu\n",
    "\n",
    "Python là một ngôn ngữ kiểu dữ liệu động (dynamically typed language) nghĩa là chúng ta không phải khai báo kiểu dữ liệu cho một biến trước khi gán giá trị cho nó. Việc này dẫn đến một số hệ quả:\n",
    "* Ưu điểm\n",
    "    * Code nhanh hơn\n",
    "    * Mã nguồn gọn gàng, dễ đọc hơn\n",
    "* Nhược điểm\n",
    "    * Tất nhiên hiệu năng sẽ không bằng so với các ngôn ngữ khai báo tường minh\n",
    "    * Với các lập trình viên mới, có thể khó xác định kiểu của biến dẫn đến việc sai logic."
   ]
  },
  {
   "cell_type": "code",
   "execution_count": null,
   "id": "af41a2d3-dde6-4333-870b-b0b1bc828687",
   "metadata": {},
   "outputs": [],
   "source": [
    "\"\"\" Trình thông dịch Python (Python interpreter) sẽ tự xác định \n",
    "được kiểu dữ liệu của một biến dựa vào giá trị được gán vào biến đó \"\"\"\n",
    "\n",
    "a = 5\n",
    "type(a)"
   ]
  },
  {
   "cell_type": "code",
   "execution_count": null,
   "id": "98090a29-6f9f-4db6-9bb1-1e66e623d506",
   "metadata": {},
   "outputs": [],
   "source": [
    "b = 5.0\n",
    "type(b)"
   ]
  },
  {
   "cell_type": "code",
   "execution_count": null,
   "id": "dda56385-c1e2-469b-9e70-98de8533c349",
   "metadata": {},
   "outputs": [],
   "source": [
    "c = 6 / 2\n",
    "type(c) "
   ]
  },
  {
   "cell_type": "code",
   "execution_count": null,
   "id": "267ce565-dff1-4f75-bece-6aa77b96d795",
   "metadata": {},
   "outputs": [],
   "source": [
    "d = 6 // 2\n",
    "type(d) "
   ]
  },
  {
   "cell_type": "markdown",
   "id": "88c05140-c597-42a2-aee2-2d45d3477106",
   "metadata": {},
   "source": [
    "* Xét 2 ví dụ c và d, ta thấy việc trình thông dịch xác định kiểu trong 1 số trường hợp rất đặc biệt, nếu không hiểu rõ được ngôn ngữ sẽ dẫn đến việc dự đoán sai kiểu dữ liệu -> sai logic hoặc mất thông tin trong tính toán.\n",
    "* Python cung cấp cho chúng ta function **type()** nhằm xác định kiểu dữ liệu của một biến.\n",
    "* Cũng như các ngôn ngữ khác, chúng ta cũng có thể chuyển đổi kiểu dữ liệu của một biến (ví dụ bên dưới)"
   ]
  },
  {
   "cell_type": "code",
   "execution_count": null,
   "id": "30f39e9e-40ad-445c-a728-d2ead2f0174a",
   "metadata": {},
   "outputs": [],
   "source": [
    "a = input(\"Mời nhập 1 số nguyên dương: \")\n",
    "print(a)\n",
    "print(type(a))\n",
    "\n",
    "print('*' * 30)\n",
    "\n",
    "a = int(a)\n",
    "print(a)\n",
    "print(type(a))"
   ]
  },
  {
   "cell_type": "code",
   "execution_count": null,
   "id": "89b3b18d-de92-4beb-902e-caed7b048f4e",
   "metadata": {},
   "outputs": [],
   "source": []
  }
 ],
 "metadata": {
  "kernelspec": {
   "display_name": "Python 3 (ipykernel)",
   "language": "python",
   "name": "python3"
  },
  "language_info": {
   "codemirror_mode": {
    "name": "ipython",
    "version": 3
   },
   "file_extension": ".py",
   "mimetype": "text/x-python",
   "name": "python",
   "nbconvert_exporter": "python",
   "pygments_lexer": "ipython3",
   "version": "3.10.6"
  }
 },
 "nbformat": 4,
 "nbformat_minor": 5
}
